{
 "cells": [
  {
   "cell_type": "code",
   "execution_count": 9,
   "id": "73e7529b",
   "metadata": {},
   "outputs": [
    {
     "name": "stdout",
     "output_type": "stream",
     "text": [
      "Collecting sounddevice\n",
      "  Downloading sounddevice-0.4.4-py3-none-win_amd64.whl (195 kB)\n",
      "Requirement already satisfied: CFFI>=1.0 in d:\\users\\electrobot\\anaconda3\\envs\\deep_learning\\lib\\site-packages (from sounddevice) (1.15.0)\n",
      "Requirement already satisfied: pycparser in d:\\users\\electrobot\\anaconda3\\envs\\deep_learning\\lib\\site-packages (from CFFI>=1.0->sounddevice) (2.21)\n",
      "Installing collected packages: sounddevice\n",
      "Successfully installed sounddevice-0.4.4\n"
     ]
    }
   ],
   "source": [
    "!pip install sounddevice"
   ]
  },
  {
   "cell_type": "code",
   "execution_count": 10,
   "id": "b483b270",
   "metadata": {},
   "outputs": [
    {
     "name": "stdout",
     "output_type": "stream",
     "text": [
      "Requirement already satisfied: scipy in d:\\users\\electrobot\\anaconda3\\envs\\deep_learning\\lib\\site-packages (1.8.0)\n",
      "Requirement already satisfied: numpy<1.25.0,>=1.17.3 in d:\\users\\electrobot\\anaconda3\\envs\\deep_learning\\lib\\site-packages (from scipy) (1.21.6)\n"
     ]
    }
   ],
   "source": [
    "!pip install scipy"
   ]
  },
  {
   "cell_type": "code",
   "execution_count": 12,
   "id": "3f3767b1",
   "metadata": {},
   "outputs": [],
   "source": [
    "import sounddevice\n",
    "from scipy.io.wavfile import write"
   ]
  },
  {
   "cell_type": "code",
   "execution_count": 15,
   "id": "49f80f3f",
   "metadata": {},
   "outputs": [
    {
     "name": "stdout",
     "output_type": "stream",
     "text": [
      "recording....\n"
     ]
    }
   ],
   "source": [
    "fs=44100\n",
    "second=10\n",
    "print(\"recording....\")\n",
    "record_voice=(sounddevice.rec(int(second*fs),samplerate=fs,channels=2))\n",
    "sounddevice.wait()\n",
    "write(\"output.wav\",fs,record_voice)"
   ]
  },
  {
   "cell_type": "code",
   "execution_count": 16,
   "id": "c5ad58d3",
   "metadata": {},
   "outputs": [
    {
     "name": "stdout",
     "output_type": "stream",
     "text": [
      "Collecting streamlit\n",
      "  Downloading streamlit-1.8.1-py2.py3-none-any.whl (10.1 MB)\n",
      "Requirement already satisfied: packaging in d:\\users\\electrobot\\anaconda3\\envs\\deep_learning\\lib\\site-packages (from streamlit) (21.3)\n",
      "Collecting gitpython!=3.1.19\n",
      "  Using cached GitPython-3.1.27-py3-none-any.whl (181 kB)\n",
      "Collecting altair>=3.2.0\n",
      "  Using cached altair-4.2.0-py3-none-any.whl (812 kB)\n",
      "Requirement already satisfied: pillow>=6.2.0 in d:\\users\\electrobot\\anaconda3\\envs\\deep_learning\\lib\\site-packages (from streamlit) (9.0.1)\n",
      "Collecting watchdog\n",
      "  Using cached watchdog-2.1.7-py3-none-win_amd64.whl (76 kB)\n",
      "Collecting semver\n",
      "  Downloading semver-2.13.0-py2.py3-none-any.whl (12 kB)\n",
      "Requirement already satisfied: numpy in d:\\users\\electrobot\\anaconda3\\envs\\deep_learning\\lib\\site-packages (from streamlit) (1.21.6)\n",
      "Collecting toml\n",
      "  Using cached toml-0.10.2-py2.py3-none-any.whl (16 kB)\n",
      "Requirement already satisfied: requests in d:\\users\\electrobot\\anaconda3\\envs\\deep_learning\\lib\\site-packages (from streamlit) (2.27.1)\n",
      "Collecting pympler>=0.9\n",
      "  Downloading Pympler-1.0.1-py3-none-any.whl (164 kB)\n",
      "Requirement already satisfied: protobuf!=3.11,>=3.6.0 in d:\\users\\electrobot\\anaconda3\\envs\\deep_learning\\lib\\site-packages (from streamlit) (3.19.4)\n",
      "Requirement already satisfied: attrs in d:\\users\\electrobot\\anaconda3\\envs\\deep_learning\\lib\\site-packages (from streamlit) (21.4.0)\n",
      "Collecting blinker\n",
      "  Using cached blinker-1.4.tar.gz (111 kB)\n",
      "Requirement already satisfied: pandas>=0.21.0 in d:\\users\\electrobot\\anaconda3\\envs\\deep_learning\\lib\\site-packages (from streamlit) (1.4.1)\n",
      "Requirement already satisfied: tornado>=5.0 in d:\\users\\electrobot\\anaconda3\\envs\\deep_learning\\lib\\site-packages (from streamlit) (6.1)\n",
      "Collecting pydeck>=0.1.dev5\n",
      "  Using cached pydeck-0.7.1-py2.py3-none-any.whl (4.3 MB)\n",
      "Collecting pyarrow\n",
      "  Downloading pyarrow-7.0.0-cp38-cp38-win_amd64.whl (16.1 MB)\n",
      "Requirement already satisfied: cachetools>=4.0 in d:\\users\\electrobot\\anaconda3\\envs\\deep_learning\\lib\\site-packages (from streamlit) (5.0.0)\n",
      "Requirement already satisfied: python-dateutil in d:\\users\\electrobot\\anaconda3\\envs\\deep_learning\\lib\\site-packages (from streamlit) (2.8.2)\n",
      "Requirement already satisfied: importlib-metadata>=1.4 in d:\\users\\electrobot\\anaconda3\\envs\\deep_learning\\lib\\site-packages (from streamlit) (4.11.2)\n",
      "Collecting click<8.1,>=7.0\n",
      "  Using cached click-8.0.4-py3-none-any.whl (97 kB)\n",
      "Collecting tzlocal\n",
      "  Using cached tzlocal-4.2-py3-none-any.whl (19 kB)\n",
      "Collecting validators\n",
      "  Using cached validators-0.18.2-py3-none-any.whl (19 kB)\n",
      "Requirement already satisfied: entrypoints in d:\\users\\electrobot\\anaconda3\\envs\\deep_learning\\lib\\site-packages (from altair>=3.2.0->streamlit) (0.3)\n",
      "Collecting toolz\n",
      "  Using cached toolz-0.11.2-py3-none-any.whl (55 kB)\n",
      "Requirement already satisfied: jsonschema>=3.0 in d:\\users\\electrobot\\anaconda3\\envs\\deep_learning\\lib\\site-packages (from altair>=3.2.0->streamlit) (3.2.0)\n",
      "Requirement already satisfied: jinja2 in d:\\users\\electrobot\\anaconda3\\envs\\deep_learning\\lib\\site-packages (from altair>=3.2.0->streamlit) (3.0.2)\n",
      "Requirement already satisfied: colorama in d:\\users\\electrobot\\anaconda3\\envs\\deep_learning\\lib\\site-packages (from click<8.1,>=7.0->streamlit) (0.4.4)\n",
      "Collecting gitdb<5,>=4.0.1\n",
      "  Using cached gitdb-4.0.9-py3-none-any.whl (63 kB)\n",
      "Collecting smmap<6,>=3.0.1\n",
      "  Using cached smmap-5.0.0-py3-none-any.whl (24 kB)\n",
      "Requirement already satisfied: zipp>=0.5 in d:\\users\\electrobot\\anaconda3\\envs\\deep_learning\\lib\\site-packages (from importlib-metadata>=1.4->streamlit) (3.7.0)\n",
      "Requirement already satisfied: six>=1.11.0 in d:\\users\\electrobot\\anaconda3\\envs\\deep_learning\\lib\\site-packages (from jsonschema>=3.0->altair>=3.2.0->streamlit) (1.16.0)\n",
      "Requirement already satisfied: setuptools in d:\\users\\electrobot\\anaconda3\\envs\\deep_learning\\lib\\site-packages (from jsonschema>=3.0->altair>=3.2.0->streamlit) (58.0.4)\n",
      "Requirement already satisfied: pyrsistent>=0.14.0 in d:\\users\\electrobot\\anaconda3\\envs\\deep_learning\\lib\\site-packages (from jsonschema>=3.0->altair>=3.2.0->streamlit) (0.18.0)\n",
      "Requirement already satisfied: pytz>=2020.1 in d:\\users\\electrobot\\anaconda3\\envs\\deep_learning\\lib\\site-packages (from pandas>=0.21.0->streamlit) (2021.3)\n",
      "Requirement already satisfied: ipywidgets>=7.0.0 in d:\\users\\electrobot\\anaconda3\\envs\\deep_learning\\lib\\site-packages (from pydeck>=0.1.dev5->streamlit) (7.7.0)\n",
      "Requirement already satisfied: ipykernel>=5.1.2 in d:\\users\\electrobot\\anaconda3\\envs\\deep_learning\\lib\\site-packages (from pydeck>=0.1.dev5->streamlit) (6.4.1)\n",
      "Requirement already satisfied: traitlets>=4.3.2 in d:\\users\\electrobot\\anaconda3\\envs\\deep_learning\\lib\\site-packages (from pydeck>=0.1.dev5->streamlit) (5.1.1)\n",
      "Requirement already satisfied: debugpy<2.0,>=1.0.0 in d:\\users\\electrobot\\anaconda3\\envs\\deep_learning\\lib\\site-packages (from ipykernel>=5.1.2->pydeck>=0.1.dev5->streamlit) (1.5.1)\n",
      "Requirement already satisfied: matplotlib-inline<0.2.0,>=0.1.0 in d:\\users\\electrobot\\anaconda3\\envs\\deep_learning\\lib\\site-packages (from ipykernel>=5.1.2->pydeck>=0.1.dev5->streamlit) (0.1.2)\n",
      "Requirement already satisfied: ipython-genutils in d:\\users\\electrobot\\anaconda3\\envs\\deep_learning\\lib\\site-packages (from ipykernel>=5.1.2->pydeck>=0.1.dev5->streamlit) (0.2.0)\n",
      "Requirement already satisfied: jupyter-client<8.0 in d:\\users\\electrobot\\anaconda3\\envs\\deep_learning\\lib\\site-packages (from ipykernel>=5.1.2->pydeck>=0.1.dev5->streamlit) (7.1.2)\n",
      "Requirement already satisfied: ipython<8.0,>=7.23.1 in d:\\users\\electrobot\\anaconda3\\envs\\deep_learning\\lib\\site-packages (from ipykernel>=5.1.2->pydeck>=0.1.dev5->streamlit) (7.31.1)\n",
      "Requirement already satisfied: jedi>=0.16 in d:\\users\\electrobot\\anaconda3\\envs\\deep_learning\\lib\\site-packages (from ipython<8.0,>=7.23.1->ipykernel>=5.1.2->pydeck>=0.1.dev5->streamlit) (0.18.1)\n",
      "Requirement already satisfied: pygments in d:\\users\\electrobot\\anaconda3\\envs\\deep_learning\\lib\\site-packages (from ipython<8.0,>=7.23.1->ipykernel>=5.1.2->pydeck>=0.1.dev5->streamlit) (2.11.2)\n",
      "Requirement already satisfied: decorator in d:\\users\\electrobot\\anaconda3\\envs\\deep_learning\\lib\\site-packages (from ipython<8.0,>=7.23.1->ipykernel>=5.1.2->pydeck>=0.1.dev5->streamlit) (5.1.1)\n",
      "Requirement already satisfied: backcall in d:\\users\\electrobot\\anaconda3\\envs\\deep_learning\\lib\\site-packages (from ipython<8.0,>=7.23.1->ipykernel>=5.1.2->pydeck>=0.1.dev5->streamlit) (0.2.0)\n",
      "Requirement already satisfied: prompt-toolkit!=3.0.0,!=3.0.1,<3.1.0,>=2.0.0 in d:\\users\\electrobot\\anaconda3\\envs\\deep_learning\\lib\\site-packages (from ipython<8.0,>=7.23.1->ipykernel>=5.1.2->pydeck>=0.1.dev5->streamlit) (3.0.20)\n",
      "Requirement already satisfied: pickleshare in d:\\users\\electrobot\\anaconda3\\envs\\deep_learning\\lib\\site-packages (from ipython<8.0,>=7.23.1->ipykernel>=5.1.2->pydeck>=0.1.dev5->streamlit) (0.7.5)\n",
      "Requirement already satisfied: nbformat>=4.2.0 in d:\\users\\electrobot\\anaconda3\\envs\\deep_learning\\lib\\site-packages (from ipywidgets>=7.0.0->pydeck>=0.1.dev5->streamlit) (5.1.3)\n",
      "Requirement already satisfied: jupyterlab-widgets>=1.0.0 in d:\\users\\electrobot\\anaconda3\\envs\\deep_learning\\lib\\site-packages (from ipywidgets>=7.0.0->pydeck>=0.1.dev5->streamlit) (1.1.0)\n",
      "Requirement already satisfied: widgetsnbextension~=3.6.0 in d:\\users\\electrobot\\anaconda3\\envs\\deep_learning\\lib\\site-packages (from ipywidgets>=7.0.0->pydeck>=0.1.dev5->streamlit) (3.6.0)\n",
      "Requirement already satisfied: parso<0.9.0,>=0.8.0 in d:\\users\\electrobot\\anaconda3\\envs\\deep_learning\\lib\\site-packages (from jedi>=0.16->ipython<8.0,>=7.23.1->ipykernel>=5.1.2->pydeck>=0.1.dev5->streamlit) (0.8.3)\n",
      "Requirement already satisfied: MarkupSafe>=2.0 in d:\\users\\electrobot\\anaconda3\\envs\\deep_learning\\lib\\site-packages (from jinja2->altair>=3.2.0->streamlit) (2.0.1)\n",
      "Requirement already satisfied: pyzmq>=13 in d:\\users\\electrobot\\anaconda3\\envs\\deep_learning\\lib\\site-packages (from jupyter-client<8.0->ipykernel>=5.1.2->pydeck>=0.1.dev5->streamlit) (22.3.0)\n",
      "Requirement already satisfied: nest-asyncio>=1.5 in d:\\users\\electrobot\\anaconda3\\envs\\deep_learning\\lib\\site-packages (from jupyter-client<8.0->ipykernel>=5.1.2->pydeck>=0.1.dev5->streamlit) (1.5.1)\n",
      "Requirement already satisfied: jupyter-core>=4.6.0 in d:\\users\\electrobot\\anaconda3\\envs\\deep_learning\\lib\\site-packages (from jupyter-client<8.0->ipykernel>=5.1.2->pydeck>=0.1.dev5->streamlit) (4.9.1)\n",
      "Requirement already satisfied: pywin32>=1.0 in d:\\users\\electrobot\\anaconda3\\envs\\deep_learning\\lib\\site-packages (from jupyter-core>=4.6.0->jupyter-client<8.0->ipykernel>=5.1.2->pydeck>=0.1.dev5->streamlit) (302)\n",
      "Requirement already satisfied: wcwidth in d:\\users\\electrobot\\anaconda3\\envs\\deep_learning\\lib\\site-packages (from prompt-toolkit!=3.0.0,!=3.0.1,<3.1.0,>=2.0.0->ipython<8.0,>=7.23.1->ipykernel>=5.1.2->pydeck>=0.1.dev5->streamlit) (0.2.5)\n",
      "Requirement already satisfied: notebook>=4.4.1 in d:\\users\\electrobot\\anaconda3\\envs\\deep_learning\\lib\\site-packages (from widgetsnbextension~=3.6.0->ipywidgets>=7.0.0->pydeck>=0.1.dev5->streamlit) (6.4.8)\n",
      "Requirement already satisfied: nbconvert in d:\\users\\electrobot\\anaconda3\\envs\\deep_learning\\lib\\site-packages (from notebook>=4.4.1->widgetsnbextension~=3.6.0->ipywidgets>=7.0.0->pydeck>=0.1.dev5->streamlit) (6.1.0)\n",
      "Requirement already satisfied: prometheus-client in d:\\users\\electrobot\\anaconda3\\envs\\deep_learning\\lib\\site-packages (from notebook>=4.4.1->widgetsnbextension~=3.6.0->ipywidgets>=7.0.0->pydeck>=0.1.dev5->streamlit) (0.13.1)\n",
      "Requirement already satisfied: Send2Trash>=1.8.0 in d:\\users\\electrobot\\anaconda3\\envs\\deep_learning\\lib\\site-packages (from notebook>=4.4.1->widgetsnbextension~=3.6.0->ipywidgets>=7.0.0->pydeck>=0.1.dev5->streamlit) (1.8.0)\n",
      "Requirement already satisfied: terminado>=0.8.3 in d:\\users\\electrobot\\anaconda3\\envs\\deep_learning\\lib\\site-packages (from notebook>=4.4.1->widgetsnbextension~=3.6.0->ipywidgets>=7.0.0->pydeck>=0.1.dev5->streamlit) (0.13.1)\n",
      "Requirement already satisfied: argon2-cffi in d:\\users\\electrobot\\anaconda3\\envs\\deep_learning\\lib\\site-packages (from notebook>=4.4.1->widgetsnbextension~=3.6.0->ipywidgets>=7.0.0->pydeck>=0.1.dev5->streamlit) (21.3.0)\n",
      "Requirement already satisfied: pywinpty>=1.1.0 in d:\\users\\electrobot\\anaconda3\\envs\\deep_learning\\lib\\site-packages (from terminado>=0.8.3->notebook>=4.4.1->widgetsnbextension~=3.6.0->ipywidgets>=7.0.0->pydeck>=0.1.dev5->streamlit) (2.0.2)\n",
      "Requirement already satisfied: argon2-cffi-bindings in d:\\users\\electrobot\\anaconda3\\envs\\deep_learning\\lib\\site-packages (from argon2-cffi->notebook>=4.4.1->widgetsnbextension~=3.6.0->ipywidgets>=7.0.0->pydeck>=0.1.dev5->streamlit) (21.2.0)\n",
      "Requirement already satisfied: cffi>=1.0.1 in d:\\users\\electrobot\\anaconda3\\envs\\deep_learning\\lib\\site-packages (from argon2-cffi-bindings->argon2-cffi->notebook>=4.4.1->widgetsnbextension~=3.6.0->ipywidgets>=7.0.0->pydeck>=0.1.dev5->streamlit) (1.15.0)\n",
      "Requirement already satisfied: pycparser in d:\\users\\electrobot\\anaconda3\\envs\\deep_learning\\lib\\site-packages (from cffi>=1.0.1->argon2-cffi-bindings->argon2-cffi->notebook>=4.4.1->widgetsnbextension~=3.6.0->ipywidgets>=7.0.0->pydeck>=0.1.dev5->streamlit) (2.21)\n",
      "Requirement already satisfied: jupyterlab-pygments in d:\\users\\electrobot\\anaconda3\\envs\\deep_learning\\lib\\site-packages (from nbconvert->notebook>=4.4.1->widgetsnbextension~=3.6.0->ipywidgets>=7.0.0->pydeck>=0.1.dev5->streamlit) (0.1.2)\n",
      "Requirement already satisfied: nbclient<0.6.0,>=0.5.0 in d:\\users\\electrobot\\anaconda3\\envs\\deep_learning\\lib\\site-packages (from nbconvert->notebook>=4.4.1->widgetsnbextension~=3.6.0->ipywidgets>=7.0.0->pydeck>=0.1.dev5->streamlit) (0.5.11)\n",
      "Requirement already satisfied: pandocfilters>=1.4.1 in d:\\users\\electrobot\\anaconda3\\envs\\deep_learning\\lib\\site-packages (from nbconvert->notebook>=4.4.1->widgetsnbextension~=3.6.0->ipywidgets>=7.0.0->pydeck>=0.1.dev5->streamlit) (1.5.0)\n",
      "Requirement already satisfied: testpath in d:\\users\\electrobot\\anaconda3\\envs\\deep_learning\\lib\\site-packages (from nbconvert->notebook>=4.4.1->widgetsnbextension~=3.6.0->ipywidgets>=7.0.0->pydeck>=0.1.dev5->streamlit) (0.5.0)\n",
      "Requirement already satisfied: bleach in d:\\users\\electrobot\\anaconda3\\envs\\deep_learning\\lib\\site-packages (from nbconvert->notebook>=4.4.1->widgetsnbextension~=3.6.0->ipywidgets>=7.0.0->pydeck>=0.1.dev5->streamlit) (4.1.0)\n",
      "Requirement already satisfied: mistune<2,>=0.8.1 in d:\\users\\electrobot\\anaconda3\\envs\\deep_learning\\lib\\site-packages (from nbconvert->notebook>=4.4.1->widgetsnbextension~=3.6.0->ipywidgets>=7.0.0->pydeck>=0.1.dev5->streamlit) (0.8.4)\n",
      "Requirement already satisfied: defusedxml in d:\\users\\electrobot\\anaconda3\\envs\\deep_learning\\lib\\site-packages (from nbconvert->notebook>=4.4.1->widgetsnbextension~=3.6.0->ipywidgets>=7.0.0->pydeck>=0.1.dev5->streamlit) (0.7.1)\n",
      "Requirement already satisfied: webencodings in d:\\users\\electrobot\\anaconda3\\envs\\deep_learning\\lib\\site-packages (from bleach->nbconvert->notebook>=4.4.1->widgetsnbextension~=3.6.0->ipywidgets>=7.0.0->pydeck>=0.1.dev5->streamlit) (0.5.1)\n",
      "Requirement already satisfied: pyparsing!=3.0.5,>=2.0.2 in d:\\users\\electrobot\\anaconda3\\envs\\deep_learning\\lib\\site-packages (from packaging->streamlit) (3.0.4)\n",
      "Requirement already satisfied: certifi>=2017.4.17 in d:\\users\\electrobot\\anaconda3\\envs\\deep_learning\\lib\\site-packages (from requests->streamlit) (2021.10.8)\n",
      "Requirement already satisfied: charset-normalizer~=2.0.0 in d:\\users\\electrobot\\anaconda3\\envs\\deep_learning\\lib\\site-packages (from requests->streamlit) (2.0.12)\n",
      "Requirement already satisfied: idna<4,>=2.5 in d:\\users\\electrobot\\anaconda3\\envs\\deep_learning\\lib\\site-packages (from requests->streamlit) (3.3)\n",
      "Requirement already satisfied: urllib3<1.27,>=1.21.1 in d:\\users\\electrobot\\anaconda3\\envs\\deep_learning\\lib\\site-packages (from requests->streamlit) (1.26.8)\n",
      "Collecting backports.zoneinfo\n",
      "  Downloading backports.zoneinfo-0.2.1-cp38-cp38-win_amd64.whl (38 kB)\n",
      "Collecting pytz-deprecation-shim\n",
      "  Using cached pytz_deprecation_shim-0.1.0.post0-py2.py3-none-any.whl (15 kB)\n",
      "Collecting tzdata\n",
      "  Using cached tzdata-2022.1-py2.py3-none-any.whl (339 kB)\n",
      "Building wheels for collected packages: blinker\n",
      "  Building wheel for blinker (setup.py): started\n",
      "  Building wheel for blinker (setup.py): finished with status 'done'\n",
      "  Created wheel for blinker: filename=blinker-1.4-py3-none-any.whl size=13478 sha256=f7fc22d54e5873b6e63329d889f75c43ebb25340a858e2c6f766a2f67fcfb052\n",
      "  Stored in directory: c:\\users\\electrobot\\appdata\\local\\pip\\cache\\wheels\\b7\\a5\\68\\fe632054a5eadd531c7a49d740c50eb6adfbeca822b4eab8d4\n",
      "Successfully built blinker\n",
      "Installing collected packages: tzdata, smmap, backports.zoneinfo, toolz, pytz-deprecation-shim, gitdb, watchdog, validators, tzlocal, toml, semver, pympler, pydeck, pyarrow, gitpython, click, blinker, altair, streamlit\n",
      "Successfully installed altair-4.2.0 backports.zoneinfo-0.2.1 blinker-1.4 click-8.0.4 gitdb-4.0.9 gitpython-3.1.27 pyarrow-7.0.0 pydeck-0.7.1 pympler-1.0.1 pytz-deprecation-shim-0.1.0.post0 semver-2.13.0 smmap-5.0.0 streamlit-1.8.1 toml-0.10.2 toolz-0.11.2 tzdata-2022.1 tzlocal-4.2 validators-0.18.2 watchdog-2.1.7\n"
     ]
    }
   ],
   "source": [
    "!pip install streamlit"
   ]
  },
  {
   "cell_type": "code",
   "execution_count": 44,
   "id": "e810b1a7",
   "metadata": {},
   "outputs": [
    {
     "name": "stdout",
     "output_type": "stream",
     "text": [
      "Overwriting demo.py\n"
     ]
    }
   ],
   "source": [
    "%%writefile demo.py\n",
    "\n",
    "import streamlit as st\n",
    "import sounddevice\n",
    "from scipy.io.wavfile import write\n",
    "import os\n",
    "import pandas as pd\n",
    "import librosa.display\n",
    "import glob\n",
    "import matplotlib.pyplot as plt\n",
    "import json\n",
    "from sklearn.preprocessing import LabelEncoder\n",
    "from keras.models import model_from_json\n",
    "import numpy as np\n",
    "\n",
    "st.set_page_config(\n",
    "    page_title=\"Voice Emotion Recognizer\",\n",
    "    page_icon=\"🧠\",\n",
    "    layout=\"wide\",\n",
    "    menu_items={\n",
    "         'Get Help': 'https://www.linkedin.com/in/tridib-roy-974374145/',\n",
    "         'Report a bug': \"https://www.linkedin.com/in/tridib-roy-974374145/\",\n",
    "         'About': \"Portfolio WebApp\"\n",
    "     }\n",
    ")\n",
    "\n",
    "st.title(\"The Machine that finally understands you!!\")\n",
    "\n",
    "st.header(\"Record your own voice\")\n",
    "\n",
    "with st.sidebar:\n",
    "    values = st.slider('select how long you want to record',5, 30, 5)\n",
    "    st.write(f\"Record for {values} seconds\")\n",
    "\n",
    "if st.button(f\"Click to Record\"):\n",
    "        fs=44100\n",
    "        second=values\n",
    "        with st.spinner(\"Recording.....\"):\n",
    "            record_voice=(sounddevice.rec(int(second*fs),samplerate=fs,channels=2))\n",
    "            sounddevice.wait()\n",
    "            write(\"output.wav\",fs,record_voice)\n",
    "        \n",
    "        data, sampling_rate = librosa.load('output.wav')\n",
    "        plt.figure(figsize=(15, 5))\n",
    "        image=librosa.display.waveshow(data, sr=sampling_rate)\n",
    "        plt.savefig(\"audio_img.jpg\")\n",
    "        \n",
    "        st.subheader(\"This is the visual representation of your voice\")\n",
    "        st.image(\"audio_img.jpg\")\n",
    "\n",
    "        st.subheader(\"and the recorder audio too...\")\n",
    "        st.audio((\"output.wav\"))\n",
    "        \n",
    "        with st.spinner(\"Analyzing your voice.....\"):\n",
    "            json_file = open('saved_models/model.json', 'r')\n",
    "            loaded_model_json = json_file.read()\n",
    "            json_file.close()\n",
    "            loaded_model = model_from_json(loaded_model_json)\n",
    "            loaded_model.load_weights(\"saved_models/Emotion_Voice_Detection_Model_v2.h5\")\n",
    "            Sentiments={ 0:'female_angry', 1:'female_calm', 2:'female_fearful', 3:'female_happy', 4:'female_sad',\n",
    "                        5:'male_angry', 6:'male_calm', 7:'male_fearful', 8:'male_happy',9:'male_sad'}\n",
    "            X, sample_rate = librosa.load('output.wav', res_type='kaiser_fast',duration=2.5,sr=22050*2,offset=0.5)\n",
    "            sample_rate = np.array(sample_rate)\n",
    "            mfccs = np.mean(librosa.feature.mfcc(y=X, sr=sample_rate, n_mfcc=13),axis=0)\n",
    "            featurelive = mfccs\n",
    "            livedf2 = featurelive\n",
    "            livedf2= pd.DataFrame(data=livedf2)\n",
    "            livedf2 = livedf2.stack().to_frame().T\n",
    "            twodim= np.expand_dims(livedf2, axis=2)\n",
    "            livepreds = loaded_model.predict(twodim, \n",
    "                                 batch_size=32, \n",
    "                                 verbose=1)\n",
    "            livepreds1=livepreds.argmax(axis=1)\n",
    "            liveabc = livepreds1.astype(int).flatten()\n",
    "            emotion = [emotions for (number,emotions) in Sentiments.items() if liveabc == number]\n",
    "        st.success(\"Processing Completed!\")\n",
    "        st.subheader(f'It seems you are a **{emotion[0].split(\"_\")[0]}** who is **{emotion[0].split(\"_\")[1]}**')"
   ]
  },
  {
   "cell_type": "code",
   "execution_count": null,
   "id": "0b081330",
   "metadata": {},
   "outputs": [],
   "source": [
    "!streamlit run demo.py"
   ]
  },
  {
   "cell_type": "code",
   "execution_count": null,
   "id": "cb3b959c",
   "metadata": {},
   "outputs": [],
   "source": []
  }
 ],
 "metadata": {
  "kernelspec": {
   "display_name": "Python 3 (ipykernel)",
   "language": "python",
   "name": "python3"
  },
  "language_info": {
   "codemirror_mode": {
    "name": "ipython",
    "version": 3
   },
   "file_extension": ".py",
   "mimetype": "text/x-python",
   "name": "python",
   "nbconvert_exporter": "python",
   "pygments_lexer": "ipython3",
   "version": "3.8.12"
  }
 },
 "nbformat": 4,
 "nbformat_minor": 5
}
